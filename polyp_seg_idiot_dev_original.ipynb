{
  "nbformat": 4,
  "nbformat_minor": 0,
  "metadata": {
    "colab": {
      "provenance": [],
      "gpuType": "T4",
      "authorship_tag": "ABX9TyMhFaXDogIAXQftGvvaqaGl",
      "include_colab_link": true
    },
    "kernelspec": {
      "name": "python3",
      "display_name": "Python 3"
    },
    "language_info": {
      "name": "python"
    },
    "accelerator": "GPU"
  },
  "cells": [
    {
      "cell_type": "markdown",
      "metadata": {
        "id": "view-in-github",
        "colab_type": "text"
      },
      "source": [
        "<a href=\"https://colab.research.google.com/github/anajovanoviic/polyp-seg-idiot-dev-original/blob/main/polyp_seg_idiot_dev_original.ipynb\" target=\"_parent\"><img src=\"https://colab.research.google.com/assets/colab-badge.svg\" alt=\"Open In Colab\"/></a>"
      ]
    },
    {
      "cell_type": "code",
      "execution_count": 1,
      "metadata": {
        "id": "UmHiCe5fZ66K"
      },
      "outputs": [],
      "source": [
        "from google.colab import drive"
      ]
    },
    {
      "cell_type": "code",
      "source": [
        "drive.mount('/content/drive/')"
      ],
      "metadata": {
        "colab": {
          "base_uri": "https://localhost:8080/"
        },
        "id": "lm9VjyrxaFmw",
        "outputId": "bd0aae97-065b-4673-ed66-42dc8bfc9502"
      },
      "execution_count": 2,
      "outputs": [
        {
          "output_type": "stream",
          "name": "stdout",
          "text": [
            "Mounted at /content/drive/\n"
          ]
        }
      ]
    },
    {
      "cell_type": "code",
      "source": [
        "%cd '/content/drive/My Drive/'"
      ],
      "metadata": {
        "colab": {
          "base_uri": "https://localhost:8080/"
        },
        "id": "x7PepwiNaY97",
        "outputId": "20fa1cfe-351c-419e-b91d-9d97d049122c"
      },
      "execution_count": 3,
      "outputs": [
        {
          "output_type": "stream",
          "name": "stdout",
          "text": [
            "/content/drive/My Drive\n"
          ]
        }
      ]
    },
    {
      "cell_type": "code",
      "source": [
        "%cd 'Master/polyp-seg-idiot-dev-original'"
      ],
      "metadata": {
        "colab": {
          "base_uri": "https://localhost:8080/"
        },
        "id": "D8o1JlhLPbfA",
        "outputId": "674ab046-e0d2-4bc5-a672-f51a406d13a4"
      },
      "execution_count": 4,
      "outputs": [
        {
          "output_type": "stream",
          "name": "stdout",
          "text": [
            "/content/drive/My Drive/Master/polyp-seg-idiot-dev-original\n"
          ]
        }
      ]
    },
    {
      "cell_type": "code",
      "source": [
        "%run data_start.py"
      ],
      "metadata": {
        "colab": {
          "base_uri": "https://localhost:8080/"
        },
        "id": "Y4ZzIjIGOzmf",
        "outputId": "900e8de0-85f5-4261-9546-3ec8ce33825a"
      },
      "execution_count": null,
      "outputs": [
        {
          "output_type": "stream",
          "name": "stdout",
          "text": [
            "\n",
            "490 61 61\n",
            "(8, 256, 256, 3) (8, 256, 256, 1)\n"
          ]
        }
      ]
    },
    {
      "cell_type": "code",
      "source": [
        "%run model.py"
      ],
      "metadata": {
        "colab": {
          "base_uri": "https://localhost:8080/"
        },
        "id": "2-tHvBc8T4MM",
        "outputId": "b6fb545a-de16-4c93-ce60-7d394b4e6d7b"
      },
      "execution_count": null,
      "outputs": [
        {
          "output_type": "stream",
          "name": "stdout",
          "text": [
            "Model: \"model\"\n",
            "__________________________________________________________________________________________________\n",
            " Layer (type)                   Output Shape         Param #     Connected to                     \n",
            "==================================================================================================\n",
            " input_1 (InputLayer)           [(None, 256, 256, 3  0           []                               \n",
            "                                )]                                                                \n",
            "                                                                                                  \n",
            " conv2d (Conv2D)                (None, 256, 256, 16  448         ['input_1[0][0]']                \n",
            "                                )                                                                 \n",
            "                                                                                                  \n",
            " batch_normalization (BatchNorm  (None, 256, 256, 16  64         ['conv2d[0][0]']                 \n",
            " alization)                     )                                                                 \n",
            "                                                                                                  \n",
            " activation (Activation)        (None, 256, 256, 16  0           ['batch_normalization[0][0]']    \n",
            "                                )                                                                 \n",
            "                                                                                                  \n",
            " conv2d_1 (Conv2D)              (None, 256, 256, 16  2320        ['activation[0][0]']             \n",
            "                                )                                                                 \n",
            "                                                                                                  \n",
            " batch_normalization_1 (BatchNo  (None, 256, 256, 16  64         ['conv2d_1[0][0]']               \n",
            " rmalization)                   )                                                                 \n",
            "                                                                                                  \n",
            " activation_1 (Activation)      (None, 256, 256, 16  0           ['batch_normalization_1[0][0]']  \n",
            "                                )                                                                 \n",
            "                                                                                                  \n",
            " max_pooling2d (MaxPooling2D)   (None, 128, 128, 16  0           ['activation_1[0][0]']           \n",
            "                                )                                                                 \n",
            "                                                                                                  \n",
            " conv2d_2 (Conv2D)              (None, 128, 128, 32  4640        ['max_pooling2d[0][0]']          \n",
            "                                )                                                                 \n",
            "                                                                                                  \n",
            " batch_normalization_2 (BatchNo  (None, 128, 128, 32  128        ['conv2d_2[0][0]']               \n",
            " rmalization)                   )                                                                 \n",
            "                                                                                                  \n",
            " activation_2 (Activation)      (None, 128, 128, 32  0           ['batch_normalization_2[0][0]']  \n",
            "                                )                                                                 \n",
            "                                                                                                  \n",
            " conv2d_3 (Conv2D)              (None, 128, 128, 32  9248        ['activation_2[0][0]']           \n",
            "                                )                                                                 \n",
            "                                                                                                  \n",
            " batch_normalization_3 (BatchNo  (None, 128, 128, 32  128        ['conv2d_3[0][0]']               \n",
            " rmalization)                   )                                                                 \n",
            "                                                                                                  \n",
            " activation_3 (Activation)      (None, 128, 128, 32  0           ['batch_normalization_3[0][0]']  \n",
            "                                )                                                                 \n",
            "                                                                                                  \n",
            " max_pooling2d_1 (MaxPooling2D)  (None, 64, 64, 32)  0           ['activation_3[0][0]']           \n",
            "                                                                                                  \n",
            " conv2d_4 (Conv2D)              (None, 64, 64, 48)   13872       ['max_pooling2d_1[0][0]']        \n",
            "                                                                                                  \n",
            " batch_normalization_4 (BatchNo  (None, 64, 64, 48)  192         ['conv2d_4[0][0]']               \n",
            " rmalization)                                                                                     \n",
            "                                                                                                  \n",
            " activation_4 (Activation)      (None, 64, 64, 48)   0           ['batch_normalization_4[0][0]']  \n",
            "                                                                                                  \n",
            " conv2d_5 (Conv2D)              (None, 64, 64, 48)   20784       ['activation_4[0][0]']           \n",
            "                                                                                                  \n",
            " batch_normalization_5 (BatchNo  (None, 64, 64, 48)  192         ['conv2d_5[0][0]']               \n",
            " rmalization)                                                                                     \n",
            "                                                                                                  \n",
            " activation_5 (Activation)      (None, 64, 64, 48)   0           ['batch_normalization_5[0][0]']  \n",
            "                                                                                                  \n",
            " max_pooling2d_2 (MaxPooling2D)  (None, 32, 32, 48)  0           ['activation_5[0][0]']           \n",
            "                                                                                                  \n",
            " conv2d_6 (Conv2D)              (None, 32, 32, 64)   27712       ['max_pooling2d_2[0][0]']        \n",
            "                                                                                                  \n",
            " batch_normalization_6 (BatchNo  (None, 32, 32, 64)  256         ['conv2d_6[0][0]']               \n",
            " rmalization)                                                                                     \n",
            "                                                                                                  \n",
            " activation_6 (Activation)      (None, 32, 32, 64)   0           ['batch_normalization_6[0][0]']  \n",
            "                                                                                                  \n",
            " conv2d_7 (Conv2D)              (None, 32, 32, 64)   36928       ['activation_6[0][0]']           \n",
            "                                                                                                  \n",
            " batch_normalization_7 (BatchNo  (None, 32, 32, 64)  256         ['conv2d_7[0][0]']               \n",
            " rmalization)                                                                                     \n",
            "                                                                                                  \n",
            " activation_7 (Activation)      (None, 32, 32, 64)   0           ['batch_normalization_7[0][0]']  \n",
            "                                                                                                  \n",
            " max_pooling2d_3 (MaxPooling2D)  (None, 16, 16, 64)  0           ['activation_7[0][0]']           \n",
            "                                                                                                  \n",
            " conv2d_8 (Conv2D)              (None, 16, 16, 64)   36928       ['max_pooling2d_3[0][0]']        \n",
            "                                                                                                  \n",
            " batch_normalization_8 (BatchNo  (None, 16, 16, 64)  256         ['conv2d_8[0][0]']               \n",
            " rmalization)                                                                                     \n",
            "                                                                                                  \n",
            " activation_8 (Activation)      (None, 16, 16, 64)   0           ['batch_normalization_8[0][0]']  \n",
            "                                                                                                  \n",
            " conv2d_9 (Conv2D)              (None, 16, 16, 64)   36928       ['activation_8[0][0]']           \n",
            "                                                                                                  \n",
            " batch_normalization_9 (BatchNo  (None, 16, 16, 64)  256         ['conv2d_9[0][0]']               \n",
            " rmalization)                                                                                     \n",
            "                                                                                                  \n",
            " activation_9 (Activation)      (None, 16, 16, 64)   0           ['batch_normalization_9[0][0]']  \n",
            "                                                                                                  \n",
            " up_sampling2d (UpSampling2D)   (None, 32, 32, 64)   0           ['activation_9[0][0]']           \n",
            "                                                                                                  \n",
            " concatenate (Concatenate)      (None, 32, 32, 128)  0           ['up_sampling2d[0][0]',          \n",
            "                                                                  'activation_7[0][0]']           \n",
            "                                                                                                  \n",
            " conv2d_10 (Conv2D)             (None, 32, 32, 64)   73792       ['concatenate[0][0]']            \n",
            "                                                                                                  \n",
            " batch_normalization_10 (BatchN  (None, 32, 32, 64)  256         ['conv2d_10[0][0]']              \n",
            " ormalization)                                                                                    \n",
            "                                                                                                  \n",
            " activation_10 (Activation)     (None, 32, 32, 64)   0           ['batch_normalization_10[0][0]'] \n",
            "                                                                                                  \n",
            " conv2d_11 (Conv2D)             (None, 32, 32, 64)   36928       ['activation_10[0][0]']          \n",
            "                                                                                                  \n",
            " batch_normalization_11 (BatchN  (None, 32, 32, 64)  256         ['conv2d_11[0][0]']              \n",
            " ormalization)                                                                                    \n",
            "                                                                                                  \n",
            " activation_11 (Activation)     (None, 32, 32, 64)   0           ['batch_normalization_11[0][0]'] \n",
            "                                                                                                  \n",
            " up_sampling2d_1 (UpSampling2D)  (None, 64, 64, 64)  0           ['activation_11[0][0]']          \n",
            "                                                                                                  \n",
            " concatenate_1 (Concatenate)    (None, 64, 64, 112)  0           ['up_sampling2d_1[0][0]',        \n",
            "                                                                  'activation_5[0][0]']           \n",
            "                                                                                                  \n",
            " conv2d_12 (Conv2D)             (None, 64, 64, 48)   48432       ['concatenate_1[0][0]']          \n",
            "                                                                                                  \n",
            " batch_normalization_12 (BatchN  (None, 64, 64, 48)  192         ['conv2d_12[0][0]']              \n",
            " ormalization)                                                                                    \n",
            "                                                                                                  \n",
            " activation_12 (Activation)     (None, 64, 64, 48)   0           ['batch_normalization_12[0][0]'] \n",
            "                                                                                                  \n",
            " conv2d_13 (Conv2D)             (None, 64, 64, 48)   20784       ['activation_12[0][0]']          \n",
            "                                                                                                  \n",
            " batch_normalization_13 (BatchN  (None, 64, 64, 48)  192         ['conv2d_13[0][0]']              \n",
            " ormalization)                                                                                    \n",
            "                                                                                                  \n",
            " activation_13 (Activation)     (None, 64, 64, 48)   0           ['batch_normalization_13[0][0]'] \n",
            "                                                                                                  \n",
            " up_sampling2d_2 (UpSampling2D)  (None, 128, 128, 48  0          ['activation_13[0][0]']          \n",
            "                                )                                                                 \n",
            "                                                                                                  \n",
            " concatenate_2 (Concatenate)    (None, 128, 128, 80  0           ['up_sampling2d_2[0][0]',        \n",
            "                                )                                 'activation_3[0][0]']           \n",
            "                                                                                                  \n",
            " conv2d_14 (Conv2D)             (None, 128, 128, 32  23072       ['concatenate_2[0][0]']          \n",
            "                                )                                                                 \n",
            "                                                                                                  \n",
            " batch_normalization_14 (BatchN  (None, 128, 128, 32  128        ['conv2d_14[0][0]']              \n",
            " ormalization)                  )                                                                 \n",
            "                                                                                                  \n",
            " activation_14 (Activation)     (None, 128, 128, 32  0           ['batch_normalization_14[0][0]'] \n",
            "                                )                                                                 \n",
            "                                                                                                  \n",
            " conv2d_15 (Conv2D)             (None, 128, 128, 32  9248        ['activation_14[0][0]']          \n",
            "                                )                                                                 \n",
            "                                                                                                  \n",
            " batch_normalization_15 (BatchN  (None, 128, 128, 32  128        ['conv2d_15[0][0]']              \n",
            " ormalization)                  )                                                                 \n",
            "                                                                                                  \n",
            " activation_15 (Activation)     (None, 128, 128, 32  0           ['batch_normalization_15[0][0]'] \n",
            "                                )                                                                 \n",
            "                                                                                                  \n",
            " up_sampling2d_3 (UpSampling2D)  (None, 256, 256, 32  0          ['activation_15[0][0]']          \n",
            "                                )                                                                 \n",
            "                                                                                                  \n",
            " concatenate_3 (Concatenate)    (None, 256, 256, 48  0           ['up_sampling2d_3[0][0]',        \n",
            "                                )                                 'activation_1[0][0]']           \n",
            "                                                                                                  \n",
            " conv2d_16 (Conv2D)             (None, 256, 256, 16  6928        ['concatenate_3[0][0]']          \n",
            "                                )                                                                 \n",
            "                                                                                                  \n",
            " batch_normalization_16 (BatchN  (None, 256, 256, 16  64         ['conv2d_16[0][0]']              \n",
            " ormalization)                  )                                                                 \n",
            "                                                                                                  \n",
            " activation_16 (Activation)     (None, 256, 256, 16  0           ['batch_normalization_16[0][0]'] \n",
            "                                )                                                                 \n",
            "                                                                                                  \n",
            " conv2d_17 (Conv2D)             (None, 256, 256, 16  2320        ['activation_16[0][0]']          \n",
            "                                )                                                                 \n",
            "                                                                                                  \n",
            " batch_normalization_17 (BatchN  (None, 256, 256, 16  64         ['conv2d_17[0][0]']              \n",
            " ormalization)                  )                                                                 \n",
            "                                                                                                  \n",
            " activation_17 (Activation)     (None, 256, 256, 16  0           ['batch_normalization_17[0][0]'] \n",
            "                                )                                                                 \n",
            "                                                                                                  \n",
            " conv2d_18 (Conv2D)             (None, 256, 256, 1)  17          ['activation_17[0][0]']          \n",
            "                                                                                                  \n",
            " activation_18 (Activation)     (None, 256, 256, 1)  0           ['conv2d_18[0][0]']              \n",
            "                                                                                                  \n",
            "==================================================================================================\n",
            "Total params: 414,401\n",
            "Trainable params: 412,865\n",
            "Non-trainable params: 1,536\n",
            "__________________________________________________________________________________________________\n"
          ]
        }
      ]
    },
    {
      "cell_type": "code",
      "source": [
        "%run train.py"
      ],
      "metadata": {
        "colab": {
          "base_uri": "https://localhost:8080/"
        },
        "id": "2FmYS_LHXKp3",
        "outputId": "f7bc1c2e-a97e-4701-fcc0-4057c3ff9300"
      },
      "execution_count": 7,
      "outputs": [
        {
          "output_type": "stream",
          "name": "stdout",
          "text": [
            "Epoch 1/50\n",
            "62/62 [==============================] - 22s 137ms/step - loss: 0.4271 - acc: 0.8554 - recall_2: 0.3224 - precision_2: 0.2815 - iou: 0.1093 - val_loss: 0.5591 - val_acc: 0.9124 - val_recall_2: 0.0000e+00 - val_precision_2: 0.0000e+00 - val_iou: 0.0751 - lr: 1.0000e-04\n",
            "Epoch 2/50\n",
            "62/62 [==============================] - 9s 147ms/step - loss: 0.3191 - acc: 0.9157 - recall_2: 0.4270 - precision_2: 0.5888 - iou: 0.1488 - val_loss: 0.4334 - val_acc: 0.9124 - val_recall_2: 0.0000e+00 - val_precision_2: 0.0000e+00 - val_iou: 0.0747 - lr: 1.0000e-04\n",
            "Epoch 3/50\n",
            "62/62 [==============================] - 10s 156ms/step - loss: 0.2745 - acc: 0.9306 - recall_2: 0.5078 - precision_2: 0.6958 - iou: 0.1874 - val_loss: 0.3731 - val_acc: 0.9124 - val_recall_2: 0.0000e+00 - val_precision_2: 0.0000e+00 - val_iou: 0.0658 - lr: 1.0000e-04\n",
            "Epoch 4/50\n",
            "62/62 [==============================] - 7s 114ms/step - loss: 0.2428 - acc: 0.9411 - recall_2: 0.5808 - precision_2: 0.7590 - iou: 0.2233 - val_loss: 0.3296 - val_acc: 0.9120 - val_recall_2: 0.0000e+00 - val_precision_2: 0.0000e+00 - val_iou: 0.0572 - lr: 1.0000e-04\n",
            "Epoch 5/50\n",
            "62/62 [==============================] - 8s 126ms/step - loss: 0.2174 - acc: 0.9498 - recall_2: 0.6411 - precision_2: 0.8078 - iou: 0.2571 - val_loss: 0.3116 - val_acc: 0.9102 - val_recall_2: 0.0032 - val_precision_2: 0.1030 - val_iou: 0.0559 - lr: 1.0000e-04\n",
            "Epoch 6/50\n",
            "62/62 [==============================] - 7s 113ms/step - loss: 0.1973 - acc: 0.9564 - recall_2: 0.6838 - precision_2: 0.8445 - iou: 0.2859 - val_loss: 0.2981 - val_acc: 0.9084 - val_recall_2: 0.0645 - val_precision_2: 0.3717 - val_iou: 0.0738 - lr: 1.0000e-04\n",
            "Epoch 7/50\n",
            "62/62 [==============================] - 8s 126ms/step - loss: 0.1800 - acc: 0.9618 - recall_2: 0.7214 - precision_2: 0.8727 - iou: 0.3127 - val_loss: 0.2780 - val_acc: 0.9139 - val_recall_2: 0.2415 - val_precision_2: 0.5247 - val_iou: 0.1270 - lr: 1.0000e-04\n",
            "Epoch 8/50\n",
            "62/62 [==============================] - 7s 108ms/step - loss: 0.1664 - acc: 0.9657 - recall_2: 0.7523 - precision_2: 0.8879 - iou: 0.3359 - val_loss: 0.2351 - val_acc: 0.9317 - val_recall_2: 0.3451 - val_precision_2: 0.7431 - val_iou: 0.1727 - lr: 1.0000e-04\n",
            "Epoch 9/50\n",
            "62/62 [==============================] - 8s 133ms/step - loss: 0.1544 - acc: 0.9688 - recall_2: 0.7772 - precision_2: 0.9000 - iou: 0.3572 - val_loss: 0.2122 - val_acc: 0.9400 - val_recall_2: 0.4127 - val_precision_2: 0.8213 - val_iou: 0.2042 - lr: 1.0000e-04\n",
            "Epoch 10/50\n",
            "62/62 [==============================] - 7s 118ms/step - loss: 0.1454 - acc: 0.9704 - recall_2: 0.7942 - precision_2: 0.9020 - iou: 0.3748 - val_loss: 0.2123 - val_acc: 0.9390 - val_recall_2: 0.5252 - val_precision_2: 0.7141 - val_iou: 0.2405 - lr: 1.0000e-04\n",
            "Epoch 11/50\n",
            "62/62 [==============================] - 7s 114ms/step - loss: 0.1419 - acc: 0.9694 - recall_2: 0.7881 - precision_2: 0.8969 - iou: 0.3812 - val_loss: 0.1762 - val_acc: 0.9522 - val_recall_2: 0.5749 - val_precision_2: 0.8397 - val_iou: 0.2771 - lr: 1.0000e-04\n",
            "Epoch 12/50\n",
            "62/62 [==============================] - 9s 142ms/step - loss: 0.1357 - acc: 0.9700 - recall_2: 0.8022 - precision_2: 0.8919 - iou: 0.3957 - val_loss: 0.1701 - val_acc: 0.9533 - val_recall_2: 0.6013 - val_precision_2: 0.8306 - val_iou: 0.2978 - lr: 1.0000e-04\n",
            "Epoch 13/50\n",
            "62/62 [==============================] - 7s 110ms/step - loss: 0.1288 - acc: 0.9715 - recall_2: 0.8019 - precision_2: 0.9065 - iou: 0.4056 - val_loss: 0.1597 - val_acc: 0.9575 - val_recall_2: 0.6592 - val_precision_2: 0.8348 - val_iou: 0.3216 - lr: 1.0000e-04\n",
            "Epoch 14/50\n",
            "62/62 [==============================] - 8s 136ms/step - loss: 0.1161 - acc: 0.9761 - recall_2: 0.8397 - precision_2: 0.9226 - iou: 0.4356 - val_loss: 0.1535 - val_acc: 0.9591 - val_recall_2: 0.7410 - val_precision_2: 0.7966 - val_iou: 0.3513 - lr: 1.0000e-04\n",
            "Epoch 15/50\n",
            "62/62 [==============================] - 7s 110ms/step - loss: 0.1088 - acc: 0.9778 - recall_2: 0.8542 - precision_2: 0.9281 - iou: 0.4539 - val_loss: 0.1510 - val_acc: 0.9589 - val_recall_2: 0.7341 - val_precision_2: 0.7987 - val_iou: 0.3566 - lr: 1.0000e-04\n",
            "Epoch 16/50\n",
            "62/62 [==============================] - 7s 117ms/step - loss: 0.1021 - acc: 0.9793 - recall_2: 0.8668 - precision_2: 0.9321 - iou: 0.4711 - val_loss: 0.1449 - val_acc: 0.9610 - val_recall_2: 0.7196 - val_precision_2: 0.8291 - val_iou: 0.3642 - lr: 1.0000e-04\n",
            "Epoch 17/50\n",
            "62/62 [==============================] - 7s 110ms/step - loss: 0.0972 - acc: 0.9800 - recall_2: 0.8723 - precision_2: 0.9349 - iou: 0.4852 - val_loss: 0.1663 - val_acc: 0.9527 - val_recall_2: 0.7680 - val_precision_2: 0.7289 - val_iou: 0.3671 - lr: 1.0000e-04\n",
            "Epoch 18/50\n",
            "62/62 [==============================] - 7s 113ms/step - loss: 0.0925 - acc: 0.9807 - recall_2: 0.8792 - precision_2: 0.9357 - iou: 0.4983 - val_loss: 0.1381 - val_acc: 0.9625 - val_recall_2: 0.7053 - val_precision_2: 0.8572 - val_iou: 0.3768 - lr: 1.0000e-04\n",
            "Epoch 19/50\n",
            "62/62 [==============================] - 7s 109ms/step - loss: 0.0891 - acc: 0.9809 - recall_2: 0.8807 - precision_2: 0.9369 - iou: 0.5085 - val_loss: 0.1416 - val_acc: 0.9586 - val_recall_2: 0.7205 - val_precision_2: 0.8044 - val_iou: 0.3789 - lr: 1.0000e-04\n",
            "Epoch 20/50\n",
            "62/62 [==============================] - 8s 132ms/step - loss: 0.0888 - acc: 0.9797 - recall_2: 0.8749 - precision_2: 0.9292 - iou: 0.5126 - val_loss: 0.1361 - val_acc: 0.9589 - val_recall_2: 0.7355 - val_precision_2: 0.7985 - val_iou: 0.3853 - lr: 1.0000e-04\n",
            "Epoch 21/50\n",
            "62/62 [==============================] - 7s 107ms/step - loss: 0.0820 - acc: 0.9817 - recall_2: 0.8885 - precision_2: 0.9379 - iou: 0.5318 - val_loss: 0.1409 - val_acc: 0.9579 - val_recall_2: 0.7187 - val_precision_2: 0.7985 - val_iou: 0.3856 - lr: 1.0000e-04\n",
            "Epoch 22/50\n",
            "62/62 [==============================] - 8s 125ms/step - loss: 0.0771 - acc: 0.9828 - recall_2: 0.8936 - precision_2: 0.9449 - iou: 0.5473 - val_loss: 0.1315 - val_acc: 0.9617 - val_recall_2: 0.6951 - val_precision_2: 0.8572 - val_iou: 0.3930 - lr: 1.0000e-04\n",
            "Epoch 23/50\n",
            "62/62 [==============================] - 7s 115ms/step - loss: 0.0718 - acc: 0.9842 - recall_2: 0.9053 - precision_2: 0.9489 - iou: 0.5644 - val_loss: 0.1704 - val_acc: 0.9461 - val_recall_2: 0.8176 - val_precision_2: 0.6674 - val_iou: 0.3981 - lr: 1.0000e-04\n",
            "Epoch 24/50\n",
            "62/62 [==============================] - 8s 121ms/step - loss: 0.0692 - acc: 0.9844 - recall_2: 0.9050 - precision_2: 0.9513 - iou: 0.5744 - val_loss: 0.2141 - val_acc: 0.9302 - val_recall_2: 0.8665 - val_precision_2: 0.5775 - val_iou: 0.3848 - lr: 1.0000e-04\n",
            "Epoch 25/50\n",
            "62/62 [==============================] - 8s 124ms/step - loss: 0.0673 - acc: 0.9844 - recall_2: 0.9080 - precision_2: 0.9490 - iou: 0.5836 - val_loss: 0.1306 - val_acc: 0.9603 - val_recall_2: 0.7768 - val_precision_2: 0.7879 - val_iou: 0.4354 - lr: 1.0000e-04\n",
            "Epoch 26/50\n",
            "62/62 [==============================] - 7s 110ms/step - loss: 0.0662 - acc: 0.9840 - recall_2: 0.9062 - precision_2: 0.9461 - iou: 0.5912 - val_loss: 0.1848 - val_acc: 0.9427 - val_recall_2: 0.8160 - val_precision_2: 0.6476 - val_iou: 0.4154 - lr: 1.0000e-04\n",
            "Epoch 27/50\n",
            "62/62 [==============================] - 8s 127ms/step - loss: 0.0629 - acc: 0.9846 - recall_2: 0.9070 - precision_2: 0.9517 - iou: 0.6016 - val_loss: 0.1587 - val_acc: 0.9483 - val_recall_2: 0.8190 - val_precision_2: 0.6812 - val_iou: 0.4307 - lr: 1.0000e-04\n",
            "Epoch 28/50\n",
            "62/62 [==============================] - 7s 113ms/step - loss: 0.0576 - acc: 0.9864 - recall_2: 0.9172 - precision_2: 0.9605 - iou: 0.6201 - val_loss: 0.1496 - val_acc: 0.9500 - val_recall_2: 0.8181 - val_precision_2: 0.6914 - val_iou: 0.4329 - lr: 1.0000e-04\n",
            "Epoch 29/50\n",
            "62/62 [==============================] - 8s 125ms/step - loss: 0.0560 - acc: 0.9863 - recall_2: 0.9190 - precision_2: 0.9584 - iou: 0.6296 - val_loss: 0.1260 - val_acc: 0.9588 - val_recall_2: 0.7821 - val_precision_2: 0.7715 - val_iou: 0.4597 - lr: 1.0000e-04\n",
            "Epoch 30/50\n",
            "62/62 [==============================] - 7s 111ms/step - loss: 0.0534 - acc: 0.9867 - recall_2: 0.9217 - precision_2: 0.9608 - iou: 0.6412 - val_loss: 0.1498 - val_acc: 0.9515 - val_recall_2: 0.8231 - val_precision_2: 0.7009 - val_iou: 0.4585 - lr: 1.0000e-04\n",
            "Epoch 31/50\n",
            "62/62 [==============================] - 7s 120ms/step - loss: 0.0514 - acc: 0.9870 - recall_2: 0.9228 - precision_2: 0.9626 - iou: 0.6506 - val_loss: 0.1505 - val_acc: 0.9511 - val_recall_2: 0.8400 - val_precision_2: 0.6935 - val_iou: 0.4647 - lr: 1.0000e-04\n",
            "Epoch 32/50\n",
            "62/62 [==============================] - 7s 113ms/step - loss: 0.0508 - acc: 0.9867 - recall_2: 0.9212 - precision_2: 0.9606 - iou: 0.6566 - val_loss: 0.1470 - val_acc: 0.9529 - val_recall_2: 0.8193 - val_precision_2: 0.7108 - val_iou: 0.4602 - lr: 1.0000e-04\n",
            "Epoch 33/50\n",
            "62/62 [==============================] - 8s 137ms/step - loss: 0.0503 - acc: 0.9864 - recall_2: 0.9184 - precision_2: 0.9600 - iou: 0.6594 - val_loss: 0.1338 - val_acc: 0.9571 - val_recall_2: 0.6681 - val_precision_2: 0.8236 - val_iou: 0.4382 - lr: 1.0000e-04\n",
            "Epoch 34/50\n",
            "62/62 [==============================] - 7s 106ms/step - loss: 0.0483 - acc: 0.9869 - recall_2: 0.9218 - precision_2: 0.9623 - iou: 0.6684 - val_loss: 0.1060 - val_acc: 0.9669 - val_recall_2: 0.7730 - val_precision_2: 0.8536 - val_iou: 0.5093 - lr: 1.0000e-05\n",
            "Epoch 35/50\n",
            "62/62 [==============================] - 8s 123ms/step - loss: 0.0442 - acc: 0.9887 - recall_2: 0.9341 - precision_2: 0.9700 - iou: 0.6811 - val_loss: 0.1052 - val_acc: 0.9674 - val_recall_2: 0.7604 - val_precision_2: 0.8680 - val_iou: 0.5059 - lr: 1.0000e-05\n",
            "Epoch 36/50\n",
            "62/62 [==============================] - 7s 122ms/step - loss: 0.0433 - acc: 0.9890 - recall_2: 0.9355 - precision_2: 0.9719 - iou: 0.6844 - val_loss: 0.1053 - val_acc: 0.9674 - val_recall_2: 0.7599 - val_precision_2: 0.8686 - val_iou: 0.5060 - lr: 1.0000e-05\n",
            "Epoch 37/50\n",
            "62/62 [==============================] - 7s 117ms/step - loss: 0.0427 - acc: 0.9892 - recall_2: 0.9367 - precision_2: 0.9733 - iou: 0.6871 - val_loss: 0.1055 - val_acc: 0.9674 - val_recall_2: 0.7606 - val_precision_2: 0.8681 - val_iou: 0.5065 - lr: 1.0000e-05\n",
            "Epoch 38/50\n",
            "62/62 [==============================] - 7s 119ms/step - loss: 0.0422 - acc: 0.9894 - recall_2: 0.9376 - precision_2: 0.9745 - iou: 0.6895 - val_loss: 0.1059 - val_acc: 0.9674 - val_recall_2: 0.7609 - val_precision_2: 0.8678 - val_iou: 0.5071 - lr: 1.0000e-05\n",
            "Epoch 39/50\n",
            "62/62 [==============================] - 7s 115ms/step - loss: 0.0417 - acc: 0.9896 - recall_2: 0.9383 - precision_2: 0.9754 - iou: 0.6917 - val_loss: 0.1061 - val_acc: 0.9674 - val_recall_2: 0.7614 - val_precision_2: 0.8673 - val_iou: 0.5081 - lr: 1.0000e-05\n",
            "Epoch 40/50\n",
            "62/62 [==============================] - 9s 145ms/step - loss: 0.0411 - acc: 0.9899 - recall_2: 0.9394 - precision_2: 0.9773 - iou: 0.6937 - val_loss: 0.1062 - val_acc: 0.9674 - val_recall_2: 0.7664 - val_precision_2: 0.8636 - val_iou: 0.5101 - lr: 1.0000e-06\n",
            "Epoch 41/50\n",
            "62/62 [==============================] - 8s 124ms/step - loss: 0.0410 - acc: 0.9899 - recall_2: 0.9397 - precision_2: 0.9773 - iou: 0.6941 - val_loss: 0.1063 - val_acc: 0.9674 - val_recall_2: 0.7690 - val_precision_2: 0.8617 - val_iou: 0.5112 - lr: 1.0000e-06\n",
            "Epoch 42/50\n",
            "62/62 [==============================] - 9s 150ms/step - loss: 0.0409 - acc: 0.9899 - recall_2: 0.9400 - precision_2: 0.9773 - iou: 0.6944 - val_loss: 0.1063 - val_acc: 0.9674 - val_recall_2: 0.7701 - val_precision_2: 0.8611 - val_iou: 0.5117 - lr: 1.0000e-06\n",
            "Epoch 43/50\n",
            "62/62 [==============================] - 8s 126ms/step - loss: 0.0409 - acc: 0.9899 - recall_2: 0.9401 - precision_2: 0.9774 - iou: 0.6946 - val_loss: 0.1064 - val_acc: 0.9674 - val_recall_2: 0.7703 - val_precision_2: 0.8611 - val_iou: 0.5120 - lr: 1.0000e-06\n",
            "Epoch 44/50\n",
            "62/62 [==============================] - 8s 123ms/step - loss: 0.0408 - acc: 0.9900 - recall_2: 0.9404 - precision_2: 0.9775 - iou: 0.6949 - val_loss: 0.1064 - val_acc: 0.9674 - val_recall_2: 0.7703 - val_precision_2: 0.8611 - val_iou: 0.5122 - lr: 1.0000e-07\n",
            "Epoch 45/50\n",
            "62/62 [==============================] - 9s 143ms/step - loss: 0.0408 - acc: 0.9900 - recall_2: 0.9404 - precision_2: 0.9775 - iou: 0.6949 - val_loss: 0.1064 - val_acc: 0.9674 - val_recall_2: 0.7702 - val_precision_2: 0.8612 - val_iou: 0.5123 - lr: 1.0000e-07\n"
          ]
        }
      ]
    },
    {
      "cell_type": "code",
      "source": [
        "%run predict.py"
      ],
      "metadata": {
        "colab": {
          "base_uri": "https://localhost:8080/"
        },
        "id": "eVKw7XktphY5",
        "outputId": "fe49261c-d10b-4370-a1ab-c49885a3b5e5"
      },
      "execution_count": 8,
      "outputs": [
        {
          "output_type": "stream",
          "name": "stdout",
          "text": [
            "8/8 [==============================] - 31s 4s/step - loss: 0.1193 - acc: 0.9633 - recall_2: 0.7643 - precision_2: 0.8616 - iou: 0.5344\n"
          ]
        },
        {
          "output_type": "stream",
          "name": "stderr",
          "text": [
            "\r  0%|          | 0/61 [00:00<?, ?it/s]"
          ]
        },
        {
          "output_type": "stream",
          "name": "stdout",
          "text": [
            "1/1 [==============================] - 1s 1s/step\n"
          ]
        },
        {
          "output_type": "stream",
          "name": "stderr",
          "text": [
            "\r  2%|▏         | 1/61 [00:01<01:09,  1.16s/it]"
          ]
        },
        {
          "output_type": "stream",
          "name": "stdout",
          "text": [
            "1/1 [==============================] - 0s 42ms/step\n"
          ]
        },
        {
          "output_type": "stream",
          "name": "stderr",
          "text": [
            "\r  3%|▎         | 2/61 [00:01<00:32,  1.80it/s]"
          ]
        },
        {
          "output_type": "stream",
          "name": "stdout",
          "text": [
            "1/1 [==============================] - 0s 29ms/step\n"
          ]
        },
        {
          "output_type": "stream",
          "name": "stderr",
          "text": [
            "\r  5%|▍         | 3/61 [00:01<00:20,  2.84it/s]"
          ]
        },
        {
          "output_type": "stream",
          "name": "stdout",
          "text": [
            "1/1 [==============================] - 0s 23ms/step\n",
            "1/1 [==============================] - 0s 29ms/step\n"
          ]
        },
        {
          "output_type": "stream",
          "name": "stderr",
          "text": [
            "\r  8%|▊         | 5/61 [00:01<00:11,  4.89it/s]"
          ]
        },
        {
          "output_type": "stream",
          "name": "stdout",
          "text": [
            "1/1 [==============================] - 0s 19ms/step\n",
            "1/1 [==============================] - 0s 20ms/step\n"
          ]
        },
        {
          "output_type": "stream",
          "name": "stderr",
          "text": [
            "\r 11%|█▏        | 7/61 [00:01<00:08,  6.49it/s]"
          ]
        },
        {
          "output_type": "stream",
          "name": "stdout",
          "text": [
            "1/1 [==============================] - 0s 22ms/step\n",
            "1/1 [==============================] - 0s 21ms/step\n"
          ]
        },
        {
          "output_type": "stream",
          "name": "stderr",
          "text": [
            "\r 15%|█▍        | 9/61 [00:01<00:06,  8.00it/s]"
          ]
        },
        {
          "output_type": "stream",
          "name": "stdout",
          "text": [
            "1/1 [==============================] - 0s 24ms/step\n",
            "1/1 [==============================] - 0s 21ms/step\n"
          ]
        },
        {
          "output_type": "stream",
          "name": "stderr",
          "text": [
            "\r 18%|█▊        | 11/61 [00:02<00:05,  9.16it/s]"
          ]
        },
        {
          "output_type": "stream",
          "name": "stdout",
          "text": [
            "1/1 [==============================] - 0s 21ms/step\n",
            "1/1 [==============================] - 0s 19ms/step\n"
          ]
        },
        {
          "output_type": "stream",
          "name": "stderr",
          "text": [
            "\r 21%|██▏       | 13/61 [00:02<00:04,  9.76it/s]"
          ]
        },
        {
          "output_type": "stream",
          "name": "stdout",
          "text": [
            "1/1 [==============================] - 0s 19ms/step\n",
            "1/1 [==============================] - 0s 22ms/step\n"
          ]
        },
        {
          "output_type": "stream",
          "name": "stderr",
          "text": [
            "\r 25%|██▍       | 15/61 [00:02<00:04, 10.58it/s]"
          ]
        },
        {
          "output_type": "stream",
          "name": "stdout",
          "text": [
            "1/1 [==============================] - 0s 25ms/step\n",
            "1/1 [==============================] - 0s 28ms/step\n"
          ]
        },
        {
          "output_type": "stream",
          "name": "stderr",
          "text": [
            "\r 28%|██▊       | 17/61 [00:02<00:04, 10.65it/s]"
          ]
        },
        {
          "output_type": "stream",
          "name": "stdout",
          "text": [
            "1/1 [==============================] - 0s 20ms/step\n",
            "1/1 [==============================] - 0s 23ms/step\n"
          ]
        },
        {
          "output_type": "stream",
          "name": "stderr",
          "text": [
            "\r 31%|███       | 19/61 [00:02<00:03, 10.93it/s]"
          ]
        },
        {
          "output_type": "stream",
          "name": "stdout",
          "text": [
            "1/1 [==============================] - 0s 23ms/step\n",
            "1/1 [==============================] - 0s 20ms/step\n"
          ]
        },
        {
          "output_type": "stream",
          "name": "stderr",
          "text": [
            "\r 34%|███▍      | 21/61 [00:02<00:03, 11.24it/s]"
          ]
        },
        {
          "output_type": "stream",
          "name": "stdout",
          "text": [
            "1/1 [==============================] - 0s 20ms/step\n",
            "1/1 [==============================] - 0s 22ms/step\n"
          ]
        },
        {
          "output_type": "stream",
          "name": "stderr",
          "text": [
            "\r 38%|███▊      | 23/61 [00:03<00:03, 11.56it/s]"
          ]
        },
        {
          "output_type": "stream",
          "name": "stdout",
          "text": [
            "1/1 [==============================] - 0s 20ms/step\n",
            "1/1 [==============================] - 0s 23ms/step\n"
          ]
        },
        {
          "output_type": "stream",
          "name": "stderr",
          "text": [
            "\r 41%|████      | 25/61 [00:03<00:03, 11.37it/s]"
          ]
        },
        {
          "output_type": "stream",
          "name": "stdout",
          "text": [
            "1/1 [==============================] - 0s 22ms/step\n",
            "1/1 [==============================] - 0s 20ms/step\n"
          ]
        },
        {
          "output_type": "stream",
          "name": "stderr",
          "text": [
            "\r 44%|████▍     | 27/61 [00:03<00:02, 11.43it/s]"
          ]
        },
        {
          "output_type": "stream",
          "name": "stdout",
          "text": [
            "1/1 [==============================] - 0s 20ms/step\n",
            "1/1 [==============================] - 0s 29ms/step\n"
          ]
        },
        {
          "output_type": "stream",
          "name": "stderr",
          "text": [
            "\r 48%|████▊     | 29/61 [00:03<00:02, 11.50it/s]"
          ]
        },
        {
          "output_type": "stream",
          "name": "stdout",
          "text": [
            "1/1 [==============================] - 0s 19ms/step\n",
            "1/1 [==============================] - 0s 19ms/step\n"
          ]
        },
        {
          "output_type": "stream",
          "name": "stderr",
          "text": [
            "\r 51%|█████     | 31/61 [00:03<00:02, 11.77it/s]"
          ]
        },
        {
          "output_type": "stream",
          "name": "stdout",
          "text": [
            "1/1 [==============================] - 0s 22ms/step\n",
            "1/1 [==============================] - 0s 21ms/step\n"
          ]
        },
        {
          "output_type": "stream",
          "name": "stderr",
          "text": [
            "\r 54%|█████▍    | 33/61 [00:03<00:02, 11.69it/s]"
          ]
        },
        {
          "output_type": "stream",
          "name": "stdout",
          "text": [
            "1/1 [==============================] - 0s 24ms/step\n",
            "1/1 [==============================] - 0s 27ms/step\n"
          ]
        },
        {
          "output_type": "stream",
          "name": "stderr",
          "text": [
            "\r 57%|█████▋    | 35/61 [00:04<00:02, 11.63it/s]"
          ]
        },
        {
          "output_type": "stream",
          "name": "stdout",
          "text": [
            "1/1 [==============================] - 0s 20ms/step\n",
            "1/1 [==============================] - 0s 20ms/step\n"
          ]
        },
        {
          "output_type": "stream",
          "name": "stderr",
          "text": [
            "\r 61%|██████    | 37/61 [00:04<00:02, 11.64it/s]"
          ]
        },
        {
          "output_type": "stream",
          "name": "stdout",
          "text": [
            "1/1 [==============================] - 0s 22ms/step\n",
            "1/1 [==============================] - 0s 27ms/step\n"
          ]
        },
        {
          "output_type": "stream",
          "name": "stderr",
          "text": [
            "\r 64%|██████▍   | 39/61 [00:04<00:01, 11.62it/s]"
          ]
        },
        {
          "output_type": "stream",
          "name": "stdout",
          "text": [
            "1/1 [==============================] - 0s 21ms/step\n",
            "1/1 [==============================] - 0s 28ms/step\n"
          ]
        },
        {
          "output_type": "stream",
          "name": "stderr",
          "text": [
            "\r 67%|██████▋   | 41/61 [00:04<00:01, 11.66it/s]"
          ]
        },
        {
          "output_type": "stream",
          "name": "stdout",
          "text": [
            "1/1 [==============================] - 0s 21ms/step\n",
            "1/1 [==============================] - 0s 21ms/step\n"
          ]
        },
        {
          "output_type": "stream",
          "name": "stderr",
          "text": [
            "\r 70%|███████   | 43/61 [00:04<00:01, 11.76it/s]"
          ]
        },
        {
          "output_type": "stream",
          "name": "stdout",
          "text": [
            "1/1 [==============================] - 0s 21ms/step\n",
            "1/1 [==============================] - 0s 24ms/step\n"
          ]
        },
        {
          "output_type": "stream",
          "name": "stderr",
          "text": [
            "\r 74%|███████▍  | 45/61 [00:05<00:01, 11.53it/s]"
          ]
        },
        {
          "output_type": "stream",
          "name": "stdout",
          "text": [
            "1/1 [==============================] - 0s 23ms/step\n",
            "1/1 [==============================] - 0s 22ms/step\n"
          ]
        },
        {
          "output_type": "stream",
          "name": "stderr",
          "text": [
            "\r 77%|███████▋  | 47/61 [00:05<00:01, 11.41it/s]"
          ]
        },
        {
          "output_type": "stream",
          "name": "stdout",
          "text": [
            "1/1 [==============================] - 0s 20ms/step\n",
            "1/1 [==============================] - 0s 22ms/step\n"
          ]
        },
        {
          "output_type": "stream",
          "name": "stderr",
          "text": [
            "\r 80%|████████  | 49/61 [00:05<00:01, 11.53it/s]"
          ]
        },
        {
          "output_type": "stream",
          "name": "stdout",
          "text": [
            "1/1 [==============================] - 0s 21ms/step\n",
            "1/1 [==============================] - 0s 21ms/step\n"
          ]
        },
        {
          "output_type": "stream",
          "name": "stderr",
          "text": [
            "\r 84%|████████▎ | 51/61 [00:05<00:00, 11.23it/s]"
          ]
        },
        {
          "output_type": "stream",
          "name": "stdout",
          "text": [
            "1/1 [==============================] - 0s 24ms/step\n",
            "1/1 [==============================] - 0s 22ms/step\n"
          ]
        },
        {
          "output_type": "stream",
          "name": "stderr",
          "text": [
            "\r 87%|████████▋ | 53/61 [00:05<00:00, 11.03it/s]"
          ]
        },
        {
          "output_type": "stream",
          "name": "stdout",
          "text": [
            "1/1 [==============================] - 0s 22ms/step\n",
            "1/1 [==============================] - 0s 24ms/step\n"
          ]
        },
        {
          "output_type": "stream",
          "name": "stderr",
          "text": [
            "\r 90%|█████████ | 55/61 [00:05<00:00, 11.12it/s]"
          ]
        },
        {
          "output_type": "stream",
          "name": "stdout",
          "text": [
            "1/1 [==============================] - 0s 21ms/step\n",
            "1/1 [==============================] - 0s 23ms/step\n"
          ]
        },
        {
          "output_type": "stream",
          "name": "stderr",
          "text": [
            "\r 93%|█████████▎| 57/61 [00:06<00:00, 11.38it/s]"
          ]
        },
        {
          "output_type": "stream",
          "name": "stdout",
          "text": [
            "1/1 [==============================] - 0s 22ms/step\n",
            "1/1 [==============================] - 0s 20ms/step\n"
          ]
        },
        {
          "output_type": "stream",
          "name": "stderr",
          "text": [
            "\r 97%|█████████▋| 59/61 [00:06<00:00, 11.34it/s]"
          ]
        },
        {
          "output_type": "stream",
          "name": "stdout",
          "text": [
            "1/1 [==============================] - 0s 20ms/step\n",
            "1/1 [==============================] - 0s 21ms/step\n"
          ]
        },
        {
          "output_type": "stream",
          "name": "stderr",
          "text": [
            "100%|██████████| 61/61 [00:06<00:00,  9.48it/s]\n"
          ]
        }
      ]
    }
  ]
}